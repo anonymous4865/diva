{
 "cells": [
  {
   "cell_type": "code",
   "execution_count": 1,
   "id": "a96e84c2-42d8-4ce8-9bd5-f042786b9ff8",
   "metadata": {},
   "outputs": [],
   "source": [
    "import os\n",
    "import gym\n",
    "import numpy as np\n",
    "import cv2\n",
    "import torch\n",
    "import difflib\n",
    "import matplotlib.pyplot as plt\n",
    "from PIL import Image"
   ]
  },
  {
   "cell_type": "code",
   "execution_count": null,
   "id": "f01b7f09-5236-42e0-811b-d5457ea13691",
   "metadata": {},
   "outputs": [],
   "source": [
    "import os\n",
    "from google import genai\n",
    "from google.genai import types\n",
    "from PIL import Image\n",
    "from io import BytesIO\n",
    "# Adjust import based on your GenAI package structure\n",
    "\n",
    "# Initialize the GenAI client with your API key\n",
    "# client = Client(api_key=\"YOUR_API_KEY\")\n",
    "client = genai.Client(api_key=\"YOUR_KEY\")\n",
    "\n",
    "# Define your prompts\n",
    "with open(\"list_of_prompts.txt\", \"r\", encoding=\"utf-8\") as file:\n",
    "    prompts = [line.strip() for line in file if line.strip()]\n",
    "\n",
    "\n",
    "output_base_dir = 'Dataset/imagen-generated'\n",
    "os.makedirs(output_base_dir, exist_ok=True)\n",
    "\n",
    "# Loop through prompts and generate images\n",
    "# Loop through prompts and generate images\n",
    "for prompt_idx, prompt in enumerate(prompts, start=1):\n",
    "    folder_name = f\"prompt_{prompt_idx}\"\n",
    "    folder_path = os.path.join(output_base_dir, folder_name)\n",
    "    os.makedirs(folder_path, exist_ok=True)\n",
    "\n",
    "    # Save the prompt text in a file\n",
    "    with open(os.path.join(folder_path, f\"prompt_{prompt_idx}.txt\"), \"w\") as file:\n",
    "        file.write(prompt)\n",
    "\n",
    "    # Generate 5 images for the current prompt\n",
    "    response1 = client.models.generate_images(\n",
    "        model=\"imagen-3.0-generate-002\",\n",
    "        prompt=prompt,\n",
    "        config=types.GenerateImagesConfig(number_of_images=5)\n",
    "    )\n",
    "\n",
    "    # Generate 5 additional image for the current prompt\n",
    "    response2 = client.models.generate_images(\n",
    "        model=\"imagen-3.0-generate-002\",\n",
    "        prompt=prompt,\n",
    "        config=types.GenerateImagesConfig(number_of_images=5)\n",
    "    )\n",
    "\n",
    "    # Combine generated images from both responses\n",
    "    combined_generated_images = response1.generated_images + response2.generated_images\n",
    "\n",
    "    # Save each generated image\n",
    "    for image_num, generated_image in enumerate(combined_generated_images, start=1):\n",
    "        # Extract image bytes and open the image\n",
    "        image_bytes = generated_image.image.image_bytes\n",
    "        image = Image.open(BytesIO(image_bytes))\n",
    "\n",
    "        # Save the image file\n",
    "        image_path = os.path.join(folder_path, f\"prompt{prompt_idx}_image{image_num}.jpg\")\n",
    "        image.save(image_path)\n",
    "\n",
    "    print(f\"Saved 5 images for '{prompt}' in '{folder_path}'\")"
   ]
  },
  {
   "cell_type": "code",
   "execution_count": null,
   "id": "c4610e73-2190-44d1-ad0a-f37d2fa7673b",
   "metadata": {},
   "outputs": [],
   "source": []
  }
 ],
 "metadata": {
  "kernelspec": {
   "display_name": "Python 3 (ipykernel)",
   "language": "python",
   "name": "python3"
  },
  "language_info": {
   "codemirror_mode": {
    "name": "ipython",
    "version": 3
   },
   "file_extension": ".py",
   "mimetype": "text/x-python",
   "name": "python",
   "nbconvert_exporter": "python",
   "pygments_lexer": "ipython3",
   "version": "3.9.10"
  }
 },
 "nbformat": 4,
 "nbformat_minor": 5
}
