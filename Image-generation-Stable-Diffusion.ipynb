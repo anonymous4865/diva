{
 "cells": [
  {
   "cell_type": "code",
   "execution_count": 1,
   "id": "72914a50-491a-4828-994c-2979508d6ecf",
   "metadata": {},
   "outputs": [],
   "source": [
    "import os\n",
    "import gym\n",
    "import numpy as np\n",
    "import cv2\n",
    "import torch\n",
    "import difflib\n",
    "import matplotlib.pyplot as plt\n",
    "from PIL import Image\n",
    "import easyocr\n",
    "from diffusers import StableDiffusion3Pipeline, AutoPipelineForInpainting\n",
    "from peft import PeftModel\n",
    "from PIL import Image\n",
    "from diffusers import StableDiffusionPipeline"
   ]
  },
  {
   "cell_type": "code",
   "execution_count": 9,
   "id": "9d342257-5bde-43e6-ba67-7ae6470fc9de",
   "metadata": {},
   "outputs": [
    {
     "data": {
      "text/plain": [
       "(1024, 1024, 3)"
      ]
     },
     "execution_count": 9,
     "metadata": {},
     "output_type": "execute_result"
    }
   ],
   "source": [
    "img = os.listdir('Dataset/stable-diffusion/prompt_1')[0]\n",
    "image = Image.open('Dataset/stable-diffusion/prompt_1/' + img)\n",
    "image_array = np.array(image)\n",
    "image_array.shape"
   ]
  },
  {
   "cell_type": "code",
   "execution_count": null,
   "id": "9fa89681-4ec2-48a9-a7aa-f6a35ea3c479",
   "metadata": {
    "scrolled": true
   },
   "outputs": [],
   "source": [
    "path = 'Dataset/stable-diffusion'\n",
    "\n",
    "# Initialize Stable Diffusion pipeline\n",
    "device = \"cuda\" if torch.cuda.is_available() else \"cpu\"\n",
    "pipe = StableDiffusion3Pipeline.from_pretrained(\n",
    "        \"stabilityai/stable-diffusion-3.5-medium\",\n",
    "        torch_dtype=torch.float16)\n",
    "pipe = pipe.to(device)\n",
    " \n",
    "# Define your prompts\n",
    "with open(\"list_of_prompts.txt\", \"r\", encoding=\"utf-8\") as file:\n",
    "    prompts = [line.strip() for line in file if line.strip()]\n",
    "\n",
    "# Print the array\n",
    "print(prompts)\n",
    " \n",
    "output_base_dir = path\n",
    "os.makedirs(output_base_dir, exist_ok=True)\n",
    " \n",
    "# Generate and save images\n",
    "for prompt_idx, prompt in enumerate(prompts, start=1):\n",
    "    folder_name = f\"prompt_{prompt_idx}\"\n",
    "    folder_path = os.path.join(output_base_dir, folder_name)\n",
    "    os.makedirs(folder_path, exist_ok=True)\n",
    " \n",
    "    # Save prompt text\n",
    "    with open(os.path.join(folder_path, f\"prompt_{prompt_idx}.txt\"), \"w\") as file:\n",
    "        file.write(prompt)\n",
    " \n",
    "    # Generate 10 images per prompt\n",
    "    for image_num in range(1, 11):\n",
    "        image = pipe(prompt, guidance_scale=7.5).images[0]\n",
    "        image_path = os.path.join(folder_path, f\"prompt{prompt_idx}_image{image_num}.jpg\")\n",
    "        image.save(image_path)\n",
    " \n",
    "    print(f\"Saved images for '{prompt}' in '{folder_path}'\")"
   ]
  },
  {
   "cell_type": "code",
   "execution_count": null,
   "id": "18982142-8a65-4e71-bc43-90f4cf8841ef",
   "metadata": {},
   "outputs": [],
   "source": []
  }
 ],
 "metadata": {
  "kernelspec": {
   "display_name": "Python 3 (ipykernel)",
   "language": "python",
   "name": "python3"
  },
  "language_info": {
   "codemirror_mode": {
    "name": "ipython",
    "version": 3
   },
   "file_extension": ".py",
   "mimetype": "text/x-python",
   "name": "python",
   "nbconvert_exporter": "python",
   "pygments_lexer": "ipython3",
   "version": "3.9.10"
  }
 },
 "nbformat": 4,
 "nbformat_minor": 5
}
