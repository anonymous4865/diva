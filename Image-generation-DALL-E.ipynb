{
 "cells": [
  {
   "cell_type": "code",
   "execution_count": 1,
   "id": "a96e84c2-42d8-4ce8-9bd5-f042786b9ff8",
   "metadata": {},
   "outputs": [],
   "source": [
    "import os\n",
    "import gym\n",
    "import numpy as np\n",
    "import cv2\n",
    "import torch\n",
    "import difflib\n",
    "import matplotlib.pyplot as plt\n",
    "from PIL import Image\n",
    "import easyocr\n",
    "from diffusers import StableDiffusion3Pipeline, AutoPipelineForInpainting\n",
    "from peft import PeftModel\n",
    "import openai\n",
    "from openai import OpenAI\n",
    "from PIL import Image\n",
    "from io import BytesIO\n",
    "import requests\n",
    "from openai import OpenAI"
   ]
  },
  {
   "cell_type": "code",
   "execution_count": null,
   "id": "18982142-8a65-4e71-bc43-90f4cf8841ef",
   "metadata": {},
   "outputs": [],
   "source": [
    "path = 'Dataset/dalle-generated'\n",
    "\n",
    "api_key = 'YOUR_API_KEY'\n",
    "client = OpenAI (\n",
    "    api_key = api_key )\n",
    "\n",
    "# Define your prompts\n",
    "with open(\"list_of_prompts.txt\", \"r\", encoding=\"utf-8\") as file:\n",
    "    prompts = [line.strip() for line in file if line.strip()]\n",
    "\n",
    "# Print the array\n",
    "print(prompts)\n",
    "\n",
    "output_base_dir = path\n",
    "os.makedirs(output_base_dir, exist_ok=True)\n",
    "\n",
    "for prompt_idx, prompt in enumerate(prompts, start=1):\n",
    "    folder_name = f\"prompt_{prompt_idx}\"\n",
    "    folder_path = os.path.join(output_base_dir, folder_name)\n",
    "    os.makedirs(folder_path, exist_ok=True)\n",
    "\n",
    "    # Save prompt text\n",
    "    with open(os.path.join(folder_path, f\"prompt_{prompt_idx}.txt\"), \"w\") as file:\n",
    "        file.write(prompt)\n",
    "\n",
    "    # Generate 10 images per prompt\n",
    "    for image_num in range(1, 11):\n",
    "        response = client.images.generate(\n",
    "            prompt=prompt,\n",
    "            n=1,\n",
    "            size=\"1024x1024\"\n",
    "        )\n",
    "        image_url = response.data[0].url  # Correct way to access the URL\n",
    "        image_response = requests.get(image_url)\n",
    "        image = Image.open(BytesIO(image_response.content))\n",
    "        image_path = os.path.join(folder_path, f\"prompt{prompt_idx}_image{image_num}.jpg\")\n",
    "        image.save(image_path)\n",
    "\n",
    "    print(f\"Saved images for '{prompt}' in '{folder_path}'\")"
   ]
  },
  {
   "cell_type": "code",
   "execution_count": null,
   "id": "f01b7f09-5236-42e0-811b-d5457ea13691",
   "metadata": {},
   "outputs": [],
   "source": []
  }
 ],
 "metadata": {
  "kernelspec": {
   "display_name": "Python 3 (ipykernel)",
   "language": "python",
   "name": "python3"
  },
  "language_info": {
   "codemirror_mode": {
    "name": "ipython",
    "version": 3
   },
   "file_extension": ".py",
   "mimetype": "text/x-python",
   "name": "python",
   "nbconvert_exporter": "python",
   "pygments_lexer": "ipython3",
   "version": "3.9.10"
  }
 },
 "nbformat": 4,
 "nbformat_minor": 5
}
